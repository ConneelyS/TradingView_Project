{
 "cells": [
  {
   "cell_type": "code",
   "execution_count": null,
   "id": "fca05e70",
   "metadata": {},
   "outputs": [
    {
     "name": "stderr",
     "output_type": "stream",
     "text": [
      "ERROR:tvDatafeed.main:error while signin\n",
      "WARNING:tvDatafeed.main:you are using nologin method, data you access may be limited\n"
     ]
    }
   ],
   "source": [
    "from tvDatafeed import TvDatafeed, Interval\n",
    "import pandas as pd\n",
    "\n",
    "username = \"username\"\n",
    "password = \"password\"\n",
    "\n",
    "tv = TvDatafeed(username, password)\n",
    "nvidia_hist = tv.get_hist(symbol='NVDA',exchange='NASDAQ',interval=Interval.in_4_hour,n_bars=5000)"
   ]
  },
  {
   "cell_type": "code",
   "execution_count": 18,
   "id": "3017cc9c",
   "metadata": {},
   "outputs": [
    {
     "data": {
      "application/vnd.microsoft.datawrangler.viewer.v0+json": {
       "columns": [
        {
         "name": "datetime",
         "rawType": "datetime64[ns]",
         "type": "datetime"
        },
        {
         "name": "symbol",
         "rawType": "object",
         "type": "string"
        },
        {
         "name": "open",
         "rawType": "float64",
         "type": "float"
        },
        {
         "name": "high",
         "rawType": "float64",
         "type": "float"
        },
        {
         "name": "low",
         "rawType": "float64",
         "type": "float"
        },
        {
         "name": "close",
         "rawType": "float64",
         "type": "float"
        },
        {
         "name": "volume",
         "rawType": "float64",
         "type": "float"
        }
       ],
       "conversionMethod": "pd.DataFrame",
       "ref": "7cf446bb-0c55-4227-bf4a-4845ff649e0f",
       "rows": [
        [
         "2015-05-04 14:30:00",
         "NASDAQ:NVDA",
         "0.56675",
         "0.57175",
         "0.5635",
         "0.565",
         "7254400.0"
        ],
        [
         "2015-05-04 18:30:00",
         "NASDAQ:NVDA",
         "0.565",
         "0.5685",
         "0.56425",
         "0.5655",
         "6176560.0"
        ],
        [
         "2015-05-05 14:30:00",
         "NASDAQ:NVDA",
         "0.56275",
         "0.56375",
         "0.55025",
         "0.55025",
         "16158200.0"
        ],
        [
         "2015-05-05 18:30:00",
         "NASDAQ:NVDA",
         "0.55025",
         "0.5525",
         "0.548375",
         "0.55075",
         "10644840.0"
        ],
        [
         "2015-05-06 14:30:00",
         "NASDAQ:NVDA",
         "0.5545",
         "0.55875",
         "0.54525",
         "0.549",
         "22071800.0"
        ],
        [
         "2015-05-06 18:30:00",
         "NASDAQ:NVDA",
         "0.549",
         "0.5525",
         "0.54675",
         "0.552375",
         "12769640.0"
        ],
        [
         "2015-05-07 14:30:00",
         "NASDAQ:NVDA",
         "0.55",
         "0.56075",
         "0.54975",
         "0.55875",
         "33665480.0"
        ],
        [
         "2015-05-07 18:30:00",
         "NASDAQ:NVDA",
         "0.55875",
         "0.563875",
         "0.558",
         "0.56325",
         "20737600.0"
        ],
        [
         "2015-05-08 14:30:00",
         "NASDAQ:NVDA",
         "0.52525",
         "0.545875",
         "0.51225",
         "0.516",
         "93109640.0"
        ],
        [
         "2015-05-08 18:30:00",
         "NASDAQ:NVDA",
         "0.516125",
         "0.52475",
         "0.515",
         "0.5205",
         "51110360.0"
        ],
        [
         "2015-05-11 14:30:00",
         "NASDAQ:NVDA",
         "0.5135",
         "0.520625",
         "0.5095",
         "0.519875",
         "34934840.0"
        ],
        [
         "2015-05-11 18:30:00",
         "NASDAQ:NVDA",
         "0.519875",
         "0.52075",
         "0.514875",
         "0.51575",
         "25005520.0"
        ],
        [
         "2015-05-12 14:30:00",
         "NASDAQ:NVDA",
         "0.51275",
         "0.52475",
         "0.512",
         "0.523875",
         "29732440.0"
        ],
        [
         "2015-05-12 18:30:00",
         "NASDAQ:NVDA",
         "0.524",
         "0.524375",
         "0.520375",
         "0.52075",
         "12660520.0"
        ],
        [
         "2015-05-13 14:30:00",
         "NASDAQ:NVDA",
         "0.52475",
         "0.52825",
         "0.519",
         "0.5215",
         "19465000.0"
        ],
        [
         "2015-05-13 18:30:00",
         "NASDAQ:NVDA",
         "0.52175",
         "0.5245",
         "0.52175",
         "0.523875",
         "9991920.0"
        ],
        [
         "2015-05-14 14:30:00",
         "NASDAQ:NVDA",
         "0.525",
         "0.535",
         "0.525",
         "0.5315",
         "18075360.0"
        ],
        [
         "2015-05-14 18:30:00",
         "NASDAQ:NVDA",
         "0.53175",
         "0.5345",
         "0.53025",
         "0.53225",
         "11560000.0"
        ],
        [
         "2015-05-15 14:30:00",
         "NASDAQ:NVDA",
         "0.53375",
         "0.53675",
         "0.52925",
         "0.533",
         "13000080.0"
        ],
        [
         "2015-05-15 18:30:00",
         "NASDAQ:NVDA",
         "0.533",
         "0.534",
         "0.532",
         "0.532375",
         "5733480.0"
        ],
        [
         "2015-05-18 14:30:00",
         "NASDAQ:NVDA",
         "0.53375",
         "0.535",
         "0.52925",
         "0.532625",
         "11199320.0"
        ],
        [
         "2015-05-18 18:30:00",
         "NASDAQ:NVDA",
         "0.5325",
         "0.532875",
         "0.530375",
         "0.53175",
         "8745600.0"
        ],
        [
         "2015-05-19 14:30:00",
         "NASDAQ:NVDA",
         "0.5305",
         "0.53175",
         "0.52575",
         "0.5285",
         "18563320.0"
        ],
        [
         "2015-05-19 18:30:00",
         "NASDAQ:NVDA",
         "0.5285",
         "0.52925",
         "0.525125",
         "0.525875",
         "12058280.0"
        ],
        [
         "2015-05-20 14:30:00",
         "NASDAQ:NVDA",
         "0.5285",
         "0.53225",
         "0.526125",
         "0.526125",
         "8385600.0"
        ],
        [
         "2015-05-20 18:30:00",
         "NASDAQ:NVDA",
         "0.52625",
         "0.53025",
         "0.525625",
         "0.52575",
         "7325760.0"
        ],
        [
         "2015-05-21 14:30:00",
         "NASDAQ:NVDA",
         "0.5265",
         "0.528",
         "0.5235",
         "0.524625",
         "7492400.0"
        ],
        [
         "2015-05-21 18:30:00",
         "NASDAQ:NVDA",
         "0.52475",
         "0.52575",
         "0.52175",
         "0.522375",
         "10168080.0"
        ],
        [
         "2015-05-22 14:30:00",
         "NASDAQ:NVDA",
         "0.5225",
         "0.52525",
         "0.52025",
         "0.52325",
         "11477960.0"
        ],
        [
         "2015-05-22 18:30:00",
         "NASDAQ:NVDA",
         "0.523375",
         "0.523375",
         "0.5205",
         "0.521375",
         "10629560.0"
        ],
        [
         "2015-05-26 14:30:00",
         "NASDAQ:NVDA",
         "0.52025",
         "0.52025",
         "0.5145",
         "0.51675",
         "12622320.0"
        ],
        [
         "2015-05-26 18:30:00",
         "NASDAQ:NVDA",
         "0.51675",
         "0.51925",
         "0.51475",
         "0.51825",
         "7514800.0"
        ],
        [
         "2015-05-27 14:30:00",
         "NASDAQ:NVDA",
         "0.52175",
         "0.532625",
         "0.521",
         "0.532",
         "16592040.0"
        ],
        [
         "2015-05-27 18:30:00",
         "NASDAQ:NVDA",
         "0.532",
         "0.54825",
         "0.5315",
         "0.546",
         "29332600.0"
        ],
        [
         "2015-05-28 14:30:00",
         "NASDAQ:NVDA",
         "0.54575",
         "0.55525",
         "0.5455",
         "0.55075",
         "19110360.0"
        ],
        [
         "2015-05-28 18:30:00",
         "NASDAQ:NVDA",
         "0.550875",
         "0.554875",
         "0.55075",
         "0.553625",
         "11516720.0"
        ],
        [
         "2015-05-29 14:30:00",
         "NASDAQ:NVDA",
         "0.55325",
         "0.557",
         "0.5525",
         "0.556",
         "21202760.0"
        ],
        [
         "2015-05-29 18:30:00",
         "NASDAQ:NVDA",
         "0.55625",
         "0.55625",
         "0.55325",
         "0.5535",
         "20018120.0"
        ],
        [
         "2015-06-01 14:30:00",
         "NASDAQ:NVDA",
         "0.55725",
         "0.565",
         "0.553375",
         "0.56325",
         "18440920.0"
        ],
        [
         "2015-06-01 18:30:00",
         "NASDAQ:NVDA",
         "0.563375",
         "0.56375",
         "0.559",
         "0.55975",
         "6486720.0"
        ],
        [
         "2015-06-02 14:30:00",
         "NASDAQ:NVDA",
         "0.557",
         "0.55875",
         "0.553",
         "0.55475",
         "10614280.0"
        ],
        [
         "2015-06-02 18:30:00",
         "NASDAQ:NVDA",
         "0.55475",
         "0.55575",
         "0.548",
         "0.548375",
         "11693560.0"
        ],
        [
         "2015-06-03 14:30:00",
         "NASDAQ:NVDA",
         "0.54975",
         "0.55375",
         "0.542625",
         "0.544",
         "15397400.0"
        ],
        [
         "2015-06-03 18:30:00",
         "NASDAQ:NVDA",
         "0.54375",
         "0.5445",
         "0.541625",
         "0.542625",
         "8199800.0"
        ],
        [
         "2015-06-04 14:30:00",
         "NASDAQ:NVDA",
         "0.5435",
         "0.554",
         "0.54125",
         "0.551",
         "20339520.0"
        ],
        [
         "2015-06-04 18:30:00",
         "NASDAQ:NVDA",
         "0.551",
         "0.552375",
         "0.5495",
         "0.552125",
         "13934520.0"
        ],
        [
         "2015-06-05 14:30:00",
         "NASDAQ:NVDA",
         "0.55125",
         "0.559",
         "0.54475",
         "0.557625",
         "19653400.0"
        ],
        [
         "2015-06-05 18:30:00",
         "NASDAQ:NVDA",
         "0.55775",
         "0.558125",
         "0.5565",
         "0.556625",
         "9447920.0"
        ],
        [
         "2015-06-08 14:30:00",
         "NASDAQ:NVDA",
         "0.55625",
         "0.55825",
         "0.5385",
         "0.5385",
         "18284840.0"
        ],
        [
         "2015-06-08 18:30:00",
         "NASDAQ:NVDA",
         "0.53825",
         "0.545875",
         "0.537625",
         "0.543875",
         "14587640.0"
        ]
       ],
       "shape": {
        "columns": 6,
        "rows": 5000
       }
      },
      "text/html": [
       "<div>\n",
       "<style scoped>\n",
       "    .dataframe tbody tr th:only-of-type {\n",
       "        vertical-align: middle;\n",
       "    }\n",
       "\n",
       "    .dataframe tbody tr th {\n",
       "        vertical-align: top;\n",
       "    }\n",
       "\n",
       "    .dataframe thead th {\n",
       "        text-align: right;\n",
       "    }\n",
       "</style>\n",
       "<table border=\"1\" class=\"dataframe\">\n",
       "  <thead>\n",
       "    <tr style=\"text-align: right;\">\n",
       "      <th></th>\n",
       "      <th>symbol</th>\n",
       "      <th>open</th>\n",
       "      <th>high</th>\n",
       "      <th>low</th>\n",
       "      <th>close</th>\n",
       "      <th>volume</th>\n",
       "    </tr>\n",
       "    <tr>\n",
       "      <th>datetime</th>\n",
       "      <th></th>\n",
       "      <th></th>\n",
       "      <th></th>\n",
       "      <th></th>\n",
       "      <th></th>\n",
       "      <th></th>\n",
       "    </tr>\n",
       "  </thead>\n",
       "  <tbody>\n",
       "    <tr>\n",
       "      <th>2015-05-04 14:30:00</th>\n",
       "      <td>NASDAQ:NVDA</td>\n",
       "      <td>0.56675</td>\n",
       "      <td>0.57175</td>\n",
       "      <td>0.563500</td>\n",
       "      <td>0.56500</td>\n",
       "      <td>7254400.0</td>\n",
       "    </tr>\n",
       "    <tr>\n",
       "      <th>2015-05-04 18:30:00</th>\n",
       "      <td>NASDAQ:NVDA</td>\n",
       "      <td>0.56500</td>\n",
       "      <td>0.56850</td>\n",
       "      <td>0.564250</td>\n",
       "      <td>0.56550</td>\n",
       "      <td>6176560.0</td>\n",
       "    </tr>\n",
       "    <tr>\n",
       "      <th>2015-05-05 14:30:00</th>\n",
       "      <td>NASDAQ:NVDA</td>\n",
       "      <td>0.56275</td>\n",
       "      <td>0.56375</td>\n",
       "      <td>0.550250</td>\n",
       "      <td>0.55025</td>\n",
       "      <td>16158200.0</td>\n",
       "    </tr>\n",
       "    <tr>\n",
       "      <th>2015-05-05 18:30:00</th>\n",
       "      <td>NASDAQ:NVDA</td>\n",
       "      <td>0.55025</td>\n",
       "      <td>0.55250</td>\n",
       "      <td>0.548375</td>\n",
       "      <td>0.55075</td>\n",
       "      <td>10644840.0</td>\n",
       "    </tr>\n",
       "    <tr>\n",
       "      <th>2015-05-06 14:30:00</th>\n",
       "      <td>NASDAQ:NVDA</td>\n",
       "      <td>0.55450</td>\n",
       "      <td>0.55875</td>\n",
       "      <td>0.545250</td>\n",
       "      <td>0.54900</td>\n",
       "      <td>22071800.0</td>\n",
       "    </tr>\n",
       "    <tr>\n",
       "      <th>...</th>\n",
       "      <td>...</td>\n",
       "      <td>...</td>\n",
       "      <td>...</td>\n",
       "      <td>...</td>\n",
       "      <td>...</td>\n",
       "      <td>...</td>\n",
       "    </tr>\n",
       "    <tr>\n",
       "      <th>2025-04-21 14:30:00</th>\n",
       "      <td>NASDAQ:NVDA</td>\n",
       "      <td>98.76000</td>\n",
       "      <td>99.43000</td>\n",
       "      <td>95.150000</td>\n",
       "      <td>95.36000</td>\n",
       "      <td>15738321.0</td>\n",
       "    </tr>\n",
       "    <tr>\n",
       "      <th>2025-04-21 18:30:00</th>\n",
       "      <td>NASDAQ:NVDA</td>\n",
       "      <td>95.36000</td>\n",
       "      <td>97.20000</td>\n",
       "      <td>95.040000</td>\n",
       "      <td>96.76000</td>\n",
       "      <td>7503126.0</td>\n",
       "    </tr>\n",
       "    <tr>\n",
       "      <th>2025-04-22 14:30:00</th>\n",
       "      <td>NASDAQ:NVDA</td>\n",
       "      <td>98.76000</td>\n",
       "      <td>99.81000</td>\n",
       "      <td>97.380000</td>\n",
       "      <td>98.09500</td>\n",
       "      <td>14922606.0</td>\n",
       "    </tr>\n",
       "    <tr>\n",
       "      <th>2025-04-22 18:30:00</th>\n",
       "      <td>NASDAQ:NVDA</td>\n",
       "      <td>98.10000</td>\n",
       "      <td>99.00000</td>\n",
       "      <td>97.280000</td>\n",
       "      <td>98.87000</td>\n",
       "      <td>7092095.0</td>\n",
       "    </tr>\n",
       "    <tr>\n",
       "      <th>2025-04-23 14:30:00</th>\n",
       "      <td>NASDAQ:NVDA</td>\n",
       "      <td>104.51000</td>\n",
       "      <td>104.80000</td>\n",
       "      <td>102.580000</td>\n",
       "      <td>103.10000</td>\n",
       "      <td>11719962.0</td>\n",
       "    </tr>\n",
       "  </tbody>\n",
       "</table>\n",
       "<p>5000 rows × 6 columns</p>\n",
       "</div>"
      ],
      "text/plain": [
       "                          symbol       open       high         low      close  \\\n",
       "datetime                                                                        \n",
       "2015-05-04 14:30:00  NASDAQ:NVDA    0.56675    0.57175    0.563500    0.56500   \n",
       "2015-05-04 18:30:00  NASDAQ:NVDA    0.56500    0.56850    0.564250    0.56550   \n",
       "2015-05-05 14:30:00  NASDAQ:NVDA    0.56275    0.56375    0.550250    0.55025   \n",
       "2015-05-05 18:30:00  NASDAQ:NVDA    0.55025    0.55250    0.548375    0.55075   \n",
       "2015-05-06 14:30:00  NASDAQ:NVDA    0.55450    0.55875    0.545250    0.54900   \n",
       "...                          ...        ...        ...         ...        ...   \n",
       "2025-04-21 14:30:00  NASDAQ:NVDA   98.76000   99.43000   95.150000   95.36000   \n",
       "2025-04-21 18:30:00  NASDAQ:NVDA   95.36000   97.20000   95.040000   96.76000   \n",
       "2025-04-22 14:30:00  NASDAQ:NVDA   98.76000   99.81000   97.380000   98.09500   \n",
       "2025-04-22 18:30:00  NASDAQ:NVDA   98.10000   99.00000   97.280000   98.87000   \n",
       "2025-04-23 14:30:00  NASDAQ:NVDA  104.51000  104.80000  102.580000  103.10000   \n",
       "\n",
       "                         volume  \n",
       "datetime                         \n",
       "2015-05-04 14:30:00   7254400.0  \n",
       "2015-05-04 18:30:00   6176560.0  \n",
       "2015-05-05 14:30:00  16158200.0  \n",
       "2015-05-05 18:30:00  10644840.0  \n",
       "2015-05-06 14:30:00  22071800.0  \n",
       "...                         ...  \n",
       "2025-04-21 14:30:00  15738321.0  \n",
       "2025-04-21 18:30:00   7503126.0  \n",
       "2025-04-22 14:30:00  14922606.0  \n",
       "2025-04-22 18:30:00   7092095.0  \n",
       "2025-04-23 14:30:00  11719962.0  \n",
       "\n",
       "[5000 rows x 6 columns]"
      ]
     },
     "execution_count": 18,
     "metadata": {},
     "output_type": "execute_result"
    }
   ],
   "source": [
    "nvidia_hist"
   ]
  },
  {
   "cell_type": "code",
   "execution_count": 19,
   "id": "5981c237",
   "metadata": {},
   "outputs": [],
   "source": [
    "# Saving data as CSV format\n",
    "nvidia_hist.to_csv('nvidia_hist.csv')"
   ]
  },
  {
   "cell_type": "code",
   "execution_count": 20,
   "id": "e5401483",
   "metadata": {},
   "outputs": [],
   "source": [
    "# Importing the SQLite module\n",
    "import sqlite3"
   ]
  },
  {
   "cell_type": "code",
   "execution_count": 21,
   "id": "ccf8cdce",
   "metadata": {},
   "outputs": [],
   "source": [
    "conn = sqlite3.connect('tradingView.db')\n",
    "cursor = conn.cursor()"
   ]
  },
  {
   "cell_type": "code",
   "execution_count": 28,
   "id": "bcc66cb0",
   "metadata": {},
   "outputs": [],
   "source": [
    "cursor.execute('''\n",
    "CREATE TABLE IF NOT EXISTS trades (\n",
    "    datetime TEXT NOT NULL,\n",
    "    symbol TEXT NOT NULL,\n",
    "    open REAL,\n",
    "    high REAL,\n",
    "    low REAL,\n",
    "    close REAL,\n",
    "    volume INTEGER\n",
    ")\n",
    "''')\n",
    "conn.commit()"
   ]
  },
  {
   "cell_type": "code",
   "execution_count": 29,
   "id": "f38e3aa5",
   "metadata": {},
   "outputs": [],
   "source": [
    "def load_csv_to_db(file):\n",
    "    data = pd.read_csv(file)\n",
    "    data.to_sql('trades', conn, if_exists='append', index=False)"
   ]
  },
  {
   "cell_type": "code",
   "execution_count": 30,
   "id": "61a003ca",
   "metadata": {},
   "outputs": [],
   "source": [
    "# Update to read all files in /data folder\n",
    "csv_files = ['nvidia_hist.csv']\n",
    "for file in csv_files:\n",
    "    load_csv_to_db(file)"
   ]
  },
  {
   "cell_type": "code",
   "execution_count": 31,
   "id": "c25c8448",
   "metadata": {},
   "outputs": [
    {
     "name": "stdout",
     "output_type": "stream",
     "text": [
      "[('2015-05-04 14:30:00', 'NASDAQ:NVDA', 0.56675, 0.57175, 0.5635, 0.565, 7254400), ('2015-05-04 18:30:00', 'NASDAQ:NVDA', 0.565, 0.5685, 0.56425, 0.5655, 6176560), ('2015-05-05 14:30:00', 'NASDAQ:NVDA', 0.56275, 0.56375, 0.55025, 0.55025, 16158200), ('2015-05-05 18:30:00', 'NASDAQ:NVDA', 0.55025, 0.5525, 0.548375, 0.55075, 10644840), ('2015-05-06 14:30:00', 'NASDAQ:NVDA', 0.5545, 0.55875, 0.54525, 0.549, 22071800)]\n"
     ]
    }
   ],
   "source": [
    "cursor.execute('SELECT * FROM trades LIMIT 5')\n",
    "rows = cursor.fetchall()\n",
    "print(rows)"
   ]
  },
  {
   "cell_type": "code",
   "execution_count": null,
   "id": "7c77a816",
   "metadata": {},
   "outputs": [],
   "source": [
    "conn.close()"
   ]
  }
 ],
 "metadata": {
  "kernelspec": {
   "display_name": "tradingView_venv",
   "language": "python",
   "name": "python3"
  },
  "language_info": {
   "codemirror_mode": {
    "name": "ipython",
    "version": 3
   },
   "file_extension": ".py",
   "mimetype": "text/x-python",
   "name": "python",
   "nbconvert_exporter": "python",
   "pygments_lexer": "ipython3",
   "version": "3.12.3"
  }
 },
 "nbformat": 4,
 "nbformat_minor": 5
}
