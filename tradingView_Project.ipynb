{
 "cells": [
  {
   "cell_type": "code",
   "execution_count": 62,
   "id": "fca05e70",
   "metadata": {},
   "outputs": [
    {
     "name": "stderr",
     "output_type": "stream",
     "text": [
      "ERROR:tvDatafeed.main:error while signin\n",
      "WARNING:tvDatafeed.main:you are using nologin method, data you access may be limited\n"
     ]
    }
   ],
   "source": [
    "from tvDatafeed import TvDatafeed, Interval\n",
    "import pandas as pd\n",
    "\n",
    "username = \"ConneelyS\"\n",
    "password = \"@YJ4-VCs5C/RL?e\"\n",
    "\n",
    "tv = TvDatafeed(username, password)\n",
    "# nvidia_hist = tv.get_hist(symbol='NVDA', exchange='NASDAQ', interval=Interval.in_4_hour, n_bars=5000)\n",
    "# SandP500_hist = tv.get_hist(symbol='SPX', exchange='SP', interval=Interval.in_4_hour, n_bars=5000)\n",
    "# US10Bonds_hist = tv.get_hist(symbol='US10Y', exchange='TVC', interval=Interval.in_4_hour, n_bars=5000)\n",
    "nvidia_hist = tv.get_hist(symbol='NVDA',exchange='NASDAQ',interval=Interval.in_1_hour,n_bars=10000)\n",
    "nvidia_hist.to_csv('nvidia_hist2.csv')"
   ]
  },
  {
   "cell_type": "code",
   "execution_count": null,
   "id": "3017cc9c",
   "metadata": {},
   "outputs": [
    {
     "data": {
      "application/vnd.microsoft.datawrangler.viewer.v0+json": {
       "columns": [
        {
         "name": "datetime",
         "rawType": "datetime64[ns]",
         "type": "datetime"
        },
        {
         "name": "symbol",
         "rawType": "object",
         "type": "string"
        },
        {
         "name": "open",
         "rawType": "float64",
         "type": "float"
        },
        {
         "name": "high",
         "rawType": "float64",
         "type": "float"
        },
        {
         "name": "low",
         "rawType": "float64",
         "type": "float"
        },
        {
         "name": "close",
         "rawType": "float64",
         "type": "float"
        },
        {
         "name": "volume",
         "rawType": "float64",
         "type": "float"
        }
       ],
       "conversionMethod": "pd.DataFrame",
       "ref": "98609f87-09d5-44da-9a4b-2a1d802bf0c5",
       "rows": [
        [
         "2022-01-03 14:30:00",
         "NASDAQ:NVDA",
         "29.815",
         "30.704",
         "29.8005",
         "30.291",
         "2961940.0"
        ],
        [
         "2022-01-03 15:30:00",
         "NASDAQ:NVDA",
         "30.295",
         "30.65",
         "30.205",
         "30.401",
         "1125470.0"
        ],
        [
         "2022-01-03 16:30:00",
         "NASDAQ:NVDA",
         "30.412",
         "30.425",
         "30.058",
         "30.237",
         "608700.0"
        ],
        [
         "2022-01-03 17:30:00",
         "NASDAQ:NVDA",
         "30.231",
         "30.313",
         "30.06",
         "30.076",
         "556080.0"
        ],
        [
         "2022-01-03 18:30:00",
         "NASDAQ:NVDA",
         "30.068",
         "30.124",
         "29.918",
         "30.122",
         "764460.0"
        ],
        [
         "2022-01-03 19:30:00",
         "NASDAQ:NVDA",
         "30.118",
         "30.241",
         "30.007",
         "30.029",
         "542520.0"
        ],
        [
         "2022-01-03 20:30:00",
         "NASDAQ:NVDA",
         "30.025",
         "30.129",
         "29.996",
         "30.116",
         "997220.0"
        ],
        [
         "2022-01-04 14:30:00",
         "NASDAQ:NVDA",
         "30.277",
         "30.454",
         "29.358",
         "29.469",
         "2760430.0"
        ],
        [
         "2022-01-04 15:30:00",
         "NASDAQ:NVDA",
         "29.473",
         "29.507",
         "28.35",
         "28.569",
         "2558080.0"
        ],
        [
         "2022-01-04 16:30:00",
         "NASDAQ:NVDA",
         "28.58",
         "28.855",
         "28.58",
         "28.763",
         "1203450.0"
        ],
        [
         "2022-01-04 17:30:00",
         "NASDAQ:NVDA",
         "28.759",
         "28.791",
         "28.47",
         "28.668",
         "618400.0"
        ],
        [
         "2022-01-04 18:30:00",
         "NASDAQ:NVDA",
         "28.653",
         "28.793",
         "28.511",
         "28.69",
         "486630.0"
        ],
        [
         "2022-01-04 19:30:00",
         "NASDAQ:NVDA",
         "28.697",
         "29.158",
         "28.697",
         "29.157",
         "1335840.0"
        ],
        [
         "2022-01-04 20:30:00",
         "NASDAQ:NVDA",
         "29.157",
         "29.37",
         "29.089",
         "29.298",
         "1263880.0"
        ],
        [
         "2022-01-05 14:30:00",
         "NASDAQ:NVDA",
         "28.921",
         "29.4",
         "28.6",
         "28.852",
         "2223930.0"
        ],
        [
         "2022-01-05 15:30:00",
         "NASDAQ:NVDA",
         "28.84",
         "28.852",
         "28.554",
         "28.641",
         "899750.0"
        ],
        [
         "2022-01-05 16:30:00",
         "NASDAQ:NVDA",
         "28.674",
         "28.675",
         "28.392",
         "28.401",
         "856090.0"
        ],
        [
         "2022-01-05 17:30:00",
         "NASDAQ:NVDA",
         "28.403",
         "28.415",
         "28.116",
         "28.332",
         "1169590.0"
        ],
        [
         "2022-01-05 18:30:00",
         "NASDAQ:NVDA",
         "28.3105",
         "28.574",
         "28.005",
         "28.1",
         "1023300.0"
        ],
        [
         "2022-01-05 19:30:00",
         "NASDAQ:NVDA",
         "28.088",
         "28.16",
         "27.545",
         "27.572",
         "1500800.0"
        ],
        [
         "2022-01-05 20:30:00",
         "NASDAQ:NVDA",
         "27.556",
         "27.888",
         "27.535",
         "27.6",
         "1500800.0"
        ],
        [
         "2022-01-06 14:30:00",
         "NASDAQ:NVDA",
         "27.595",
         "28.205",
         "27.072",
         "27.866",
         "3885890.0"
        ],
        [
         "2022-01-06 15:30:00",
         "NASDAQ:NVDA",
         "27.882",
         "28.387",
         "27.742",
         "28.065",
         "1477840.0"
        ],
        [
         "2022-01-06 16:30:00",
         "NASDAQ:NVDA",
         "28.085",
         "28.213",
         "27.858",
         "28.001",
         "573900.0"
        ],
        [
         "2022-01-06 17:30:00",
         "NASDAQ:NVDA",
         "28.017",
         "28.109",
         "27.76",
         "27.762",
         "529850.0"
        ],
        [
         "2022-01-06 18:30:00",
         "NASDAQ:NVDA",
         "27.777",
         "28.158",
         "27.77",
         "28.09",
         "566710.0"
        ],
        [
         "2022-01-06 19:30:00",
         "NASDAQ:NVDA",
         "28.077",
         "28.434",
         "28.073",
         "28.26",
         "846430.0"
        ],
        [
         "2022-01-06 20:30:00",
         "NASDAQ:NVDA",
         "28.237",
         "28.29",
         "28.018",
         "28.193",
         "905430.0"
        ],
        [
         "2022-01-07 14:30:00",
         "NASDAQ:NVDA",
         "28.17",
         "28.408",
         "27.472",
         "27.526",
         "2238520.0"
        ],
        [
         "2022-01-07 15:30:00",
         "NASDAQ:NVDA",
         "27.467",
         "27.63",
         "27.065",
         "27.458",
         "1885180.0"
        ],
        [
         "2022-01-07 16:30:00",
         "NASDAQ:NVDA",
         "27.464",
         "27.634",
         "27.348",
         "27.423",
         "812430.0"
        ],
        [
         "2022-01-07 17:30:00",
         "NASDAQ:NVDA",
         "27.415",
         "27.585",
         "27.297",
         "27.425",
         "759390.0"
        ],
        [
         "2022-01-07 18:30:00",
         "NASDAQ:NVDA",
         "27.417",
         "27.569",
         "27.256",
         "27.347",
         "575560.0"
        ],
        [
         "2022-01-07 19:30:00",
         "NASDAQ:NVDA",
         "27.334",
         "27.557",
         "27.303",
         "27.354",
         "908560.0"
        ],
        [
         "2022-01-07 20:30:00",
         "NASDAQ:NVDA",
         "27.331",
         "27.44",
         "27.223",
         "27.233",
         "1079790.0"
        ],
        [
         "2022-01-10 14:30:00",
         "NASDAQ:NVDA",
         "26.581",
         "26.798",
         "25.727",
         "25.98",
         "3687750.0"
        ],
        [
         "2022-01-10 15:30:00",
         "NASDAQ:NVDA",
         "25.981",
         "26.315",
         "25.647",
         "26.304",
         "1639940.0"
        ],
        [
         "2022-01-10 16:30:00",
         "NASDAQ:NVDA",
         "26.308",
         "26.308",
         "25.803",
         "25.86",
         "999480.0"
        ],
        [
         "2022-01-10 17:30:00",
         "NASDAQ:NVDA",
         "25.862",
         "26.477",
         "25.843",
         "26.418",
         "915740.0"
        ],
        [
         "2022-01-10 18:30:00",
         "NASDAQ:NVDA",
         "26.424",
         "26.87",
         "26.354",
         "26.814",
         "1414670.0"
        ],
        [
         "2022-01-10 19:30:00",
         "NASDAQ:NVDA",
         "26.827",
         "27.004",
         "26.578",
         "26.888",
         "1287570.0"
        ],
        [
         "2022-01-10 20:30:00",
         "NASDAQ:NVDA",
         "26.868",
         "27.467",
         "26.753",
         "27.414",
         "1402790.0"
        ],
        [
         "2022-01-11 14:30:00",
         "NASDAQ:NVDA",
         "27.315",
         "27.557",
         "26.85",
         "27.33",
         "2061540.0"
        ],
        [
         "2022-01-11 15:30:00",
         "NASDAQ:NVDA",
         "27.324",
         "27.761",
         "26.95",
         "27.735",
         "1588690.0"
        ],
        [
         "2022-01-11 16:30:00",
         "NASDAQ:NVDA",
         "27.745",
         "28.0",
         "27.591",
         "27.617",
         "1363100.0"
        ],
        [
         "2022-01-11 17:30:00",
         "NASDAQ:NVDA",
         "27.621",
         "27.728",
         "27.465",
         "27.585",
         "721400.0"
        ],
        [
         "2022-01-11 18:30:00",
         "NASDAQ:NVDA",
         "27.59",
         "27.735",
         "27.53",
         "27.671",
         "530340.0"
        ],
        [
         "2022-01-11 19:30:00",
         "NASDAQ:NVDA",
         "27.653",
         "27.892",
         "27.55",
         "27.807",
         "799310.0"
        ],
        [
         "2022-01-11 20:30:00",
         "NASDAQ:NVDA",
         "27.809",
         "27.841",
         "27.604",
         "27.822",
         "914100.0"
        ],
        [
         "2022-01-12 14:30:00",
         "NASDAQ:NVDA",
         "28.0665",
         "28.578",
         "28.0",
         "28.4",
         "2250310.0"
        ]
       ],
       "shape": {
        "columns": 6,
        "rows": 5785
       }
      },
      "text/html": [
       "<div>\n",
       "<style scoped>\n",
       "    .dataframe tbody tr th:only-of-type {\n",
       "        vertical-align: middle;\n",
       "    }\n",
       "\n",
       "    .dataframe tbody tr th {\n",
       "        vertical-align: top;\n",
       "    }\n",
       "\n",
       "    .dataframe thead th {\n",
       "        text-align: right;\n",
       "    }\n",
       "</style>\n",
       "<table border=\"1\" class=\"dataframe\">\n",
       "  <thead>\n",
       "    <tr style=\"text-align: right;\">\n",
       "      <th></th>\n",
       "      <th>symbol</th>\n",
       "      <th>open</th>\n",
       "      <th>high</th>\n",
       "      <th>low</th>\n",
       "      <th>close</th>\n",
       "      <th>volume</th>\n",
       "    </tr>\n",
       "    <tr>\n",
       "      <th>datetime</th>\n",
       "      <th></th>\n",
       "      <th></th>\n",
       "      <th></th>\n",
       "      <th></th>\n",
       "      <th></th>\n",
       "      <th></th>\n",
       "    </tr>\n",
       "  </thead>\n",
       "  <tbody>\n",
       "    <tr>\n",
       "      <th>2022-01-03 14:30:00</th>\n",
       "      <td>NASDAQ:NVDA</td>\n",
       "      <td>29.815</td>\n",
       "      <td>30.704</td>\n",
       "      <td>29.8005</td>\n",
       "      <td>30.291</td>\n",
       "      <td>2961940.0</td>\n",
       "    </tr>\n",
       "    <tr>\n",
       "      <th>2022-01-03 15:30:00</th>\n",
       "      <td>NASDAQ:NVDA</td>\n",
       "      <td>30.295</td>\n",
       "      <td>30.650</td>\n",
       "      <td>30.2050</td>\n",
       "      <td>30.401</td>\n",
       "      <td>1125470.0</td>\n",
       "    </tr>\n",
       "    <tr>\n",
       "      <th>2022-01-03 16:30:00</th>\n",
       "      <td>NASDAQ:NVDA</td>\n",
       "      <td>30.412</td>\n",
       "      <td>30.425</td>\n",
       "      <td>30.0580</td>\n",
       "      <td>30.237</td>\n",
       "      <td>608700.0</td>\n",
       "    </tr>\n",
       "    <tr>\n",
       "      <th>2022-01-03 17:30:00</th>\n",
       "      <td>NASDAQ:NVDA</td>\n",
       "      <td>30.231</td>\n",
       "      <td>30.313</td>\n",
       "      <td>30.0600</td>\n",
       "      <td>30.076</td>\n",
       "      <td>556080.0</td>\n",
       "    </tr>\n",
       "    <tr>\n",
       "      <th>2022-01-03 18:30:00</th>\n",
       "      <td>NASDAQ:NVDA</td>\n",
       "      <td>30.068</td>\n",
       "      <td>30.124</td>\n",
       "      <td>29.9180</td>\n",
       "      <td>30.122</td>\n",
       "      <td>764460.0</td>\n",
       "    </tr>\n",
       "    <tr>\n",
       "      <th>...</th>\n",
       "      <td>...</td>\n",
       "      <td>...</td>\n",
       "      <td>...</td>\n",
       "      <td>...</td>\n",
       "      <td>...</td>\n",
       "      <td>...</td>\n",
       "    </tr>\n",
       "    <tr>\n",
       "      <th>2025-04-23 16:30:00</th>\n",
       "      <td>NASDAQ:NVDA</td>\n",
       "      <td>103.150</td>\n",
       "      <td>103.465</td>\n",
       "      <td>102.6200</td>\n",
       "      <td>103.360</td>\n",
       "      <td>2409520.0</td>\n",
       "    </tr>\n",
       "    <tr>\n",
       "      <th>2025-04-23 17:30:00</th>\n",
       "      <td>NASDAQ:NVDA</td>\n",
       "      <td>103.355</td>\n",
       "      <td>104.330</td>\n",
       "      <td>103.1100</td>\n",
       "      <td>103.960</td>\n",
       "      <td>2264068.0</td>\n",
       "    </tr>\n",
       "    <tr>\n",
       "      <th>2025-04-23 18:30:00</th>\n",
       "      <td>NASDAQ:NVDA</td>\n",
       "      <td>103.970</td>\n",
       "      <td>104.240</td>\n",
       "      <td>103.5650</td>\n",
       "      <td>103.715</td>\n",
       "      <td>1643823.0</td>\n",
       "    </tr>\n",
       "    <tr>\n",
       "      <th>2025-04-23 19:30:00</th>\n",
       "      <td>NASDAQ:NVDA</td>\n",
       "      <td>103.720</td>\n",
       "      <td>103.910</td>\n",
       "      <td>102.3200</td>\n",
       "      <td>102.410</td>\n",
       "      <td>2166486.0</td>\n",
       "    </tr>\n",
       "    <tr>\n",
       "      <th>2025-04-23 20:30:00</th>\n",
       "      <td>NASDAQ:NVDA</td>\n",
       "      <td>102.425</td>\n",
       "      <td>102.890</td>\n",
       "      <td>102.0200</td>\n",
       "      <td>102.535</td>\n",
       "      <td>2483566.0</td>\n",
       "    </tr>\n",
       "  </tbody>\n",
       "</table>\n",
       "<p>5785 rows × 6 columns</p>\n",
       "</div>"
      ],
      "text/plain": [
       "                          symbol     open     high       low    close  \\\n",
       "datetime                                                                \n",
       "2022-01-03 14:30:00  NASDAQ:NVDA   29.815   30.704   29.8005   30.291   \n",
       "2022-01-03 15:30:00  NASDAQ:NVDA   30.295   30.650   30.2050   30.401   \n",
       "2022-01-03 16:30:00  NASDAQ:NVDA   30.412   30.425   30.0580   30.237   \n",
       "2022-01-03 17:30:00  NASDAQ:NVDA   30.231   30.313   30.0600   30.076   \n",
       "2022-01-03 18:30:00  NASDAQ:NVDA   30.068   30.124   29.9180   30.122   \n",
       "...                          ...      ...      ...       ...      ...   \n",
       "2025-04-23 16:30:00  NASDAQ:NVDA  103.150  103.465  102.6200  103.360   \n",
       "2025-04-23 17:30:00  NASDAQ:NVDA  103.355  104.330  103.1100  103.960   \n",
       "2025-04-23 18:30:00  NASDAQ:NVDA  103.970  104.240  103.5650  103.715   \n",
       "2025-04-23 19:30:00  NASDAQ:NVDA  103.720  103.910  102.3200  102.410   \n",
       "2025-04-23 20:30:00  NASDAQ:NVDA  102.425  102.890  102.0200  102.535   \n",
       "\n",
       "                        volume  \n",
       "datetime                        \n",
       "2022-01-03 14:30:00  2961940.0  \n",
       "2022-01-03 15:30:00  1125470.0  \n",
       "2022-01-03 16:30:00   608700.0  \n",
       "2022-01-03 17:30:00   556080.0  \n",
       "2022-01-03 18:30:00   764460.0  \n",
       "...                        ...  \n",
       "2025-04-23 16:30:00  2409520.0  \n",
       "2025-04-23 17:30:00  2264068.0  \n",
       "2025-04-23 18:30:00  1643823.0  \n",
       "2025-04-23 19:30:00  2166486.0  \n",
       "2025-04-23 20:30:00  2483566.0  \n",
       "\n",
       "[5785 rows x 6 columns]"
      ]
     },
     "execution_count": 63,
     "metadata": {},
     "output_type": "execute_result"
    },
    {
     "ename": "",
     "evalue": "",
     "output_type": "error",
     "traceback": [
      "\u001b[1;31mThe Kernel crashed while executing code in the current cell or a previous cell. \n",
      "\u001b[1;31mPlease review the code in the cell(s) to identify a possible cause of the failure. \n",
      "\u001b[1;31mClick <a href='https://aka.ms/vscodeJupyterKernelCrash'>here</a> for more info. \n",
      "\u001b[1;31mView Jupyter <a href='command:jupyter.viewOutput'>log</a> for further details."
     ]
    }
   ],
   "source": [
    "nvidia_hist\n",
    "# SandP500_hist\n",
    "# US10Bonds_hist"
   ]
  },
  {
   "cell_type": "code",
   "execution_count": null,
   "id": "5981c237",
   "metadata": {},
   "outputs": [],
   "source": [
    "# Saving data as CSV format\n",
    "# nvidia_hist.to_csv('nvidia_hist.csv')\n",
    "# SandP500_hist.to_csv('SandP500_hist.csv')\n",
    "# US10Bonds_hist.to_csv('US10Bonds_hist.csv')"
   ]
  },
  {
   "cell_type": "code",
   "execution_count": 56,
   "id": "e5401483",
   "metadata": {},
   "outputs": [],
   "source": [
    "# Importing the SQLite module\n",
    "import sqlite3"
   ]
  },
  {
   "cell_type": "code",
   "execution_count": 57,
   "id": "ccf8cdce",
   "metadata": {},
   "outputs": [],
   "source": [
    "conn = sqlite3.connect('database/tradingView.db')\n",
    "cursor = conn.cursor()"
   ]
  },
  {
   "cell_type": "code",
   "execution_count": 58,
   "id": "bcc66cb0",
   "metadata": {},
   "outputs": [],
   "source": [
    "cursor.execute('''\n",
    "CREATE TABLE IF NOT EXISTS trades (\n",
    "    datetime TEXT NOT NULL,\n",
    "    symbol TEXT NOT NULL,\n",
    "    open REAL,\n",
    "    high REAL,\n",
    "    low REAL,\n",
    "    close REAL,\n",
    "    volume INTEGER\n",
    ")\n",
    "''')\n",
    "conn.commit()"
   ]
  },
  {
   "cell_type": "code",
   "execution_count": 59,
   "id": "f38e3aa5",
   "metadata": {},
   "outputs": [],
   "source": [
    "def load_csv_to_db(file):\n",
    "    data = pd.read_csv(file)\n",
    "    data.to_sql('trades', conn, if_exists='append', index=False)"
   ]
  },
  {
   "cell_type": "code",
   "execution_count": 60,
   "id": "61a003ca",
   "metadata": {},
   "outputs": [],
   "source": [
    "# Update to read all files in /data folder\n",
    "csv_files = ['nvidia_hist.csv', 'US10Bonds_hist.csv', 'SandP500_hist.csv', 'gold_hist.csv']\n",
    "for file in csv_files:\n",
    "    load_csv_to_db(file)"
   ]
  },
  {
   "cell_type": "code",
   "execution_count": 61,
   "id": "c25c8448",
   "metadata": {},
   "outputs": [
    {
     "name": "stdout",
     "output_type": "stream",
     "text": [
      "[('2015-05-04 14:30:00', 'NASDAQ:NVDA', 0.56675, 0.57175, 0.5635, 0.565, 7254400), ('2015-05-04 18:30:00', 'NASDAQ:NVDA', 0.565, 0.5685, 0.56425, 0.5655, 6176560), ('2015-05-05 14:30:00', 'NASDAQ:NVDA', 0.56275, 0.56375, 0.55025, 0.55025, 16158200), ('2015-05-05 18:30:00', 'NASDAQ:NVDA', 0.55025, 0.5525, 0.548375, 0.55075, 10644840), ('2015-05-06 14:30:00', 'NASDAQ:NVDA', 0.5545, 0.55875, 0.54525, 0.549, 22071800)]\n"
     ]
    }
   ],
   "source": [
    "cursor.execute('SELECT * FROM trades LIMIT 5')\n",
    "rows = cursor.fetchall()\n",
    "print(rows)"
   ]
  },
  {
   "cell_type": "code",
   "execution_count": 55,
   "id": "7c77a816",
   "metadata": {},
   "outputs": [],
   "source": [
    "conn.close()"
   ]
  }
 ],
 "metadata": {
  "kernelspec": {
   "display_name": "tradingView_venv",
   "language": "python",
   "name": "python3"
  },
  "language_info": {
   "codemirror_mode": {
    "name": "ipython",
    "version": 3
   },
   "file_extension": ".py",
   "mimetype": "text/x-python",
   "name": "python",
   "nbconvert_exporter": "python",
   "pygments_lexer": "ipython3",
   "version": "3.12.3"
  }
 },
 "nbformat": 4,
 "nbformat_minor": 5
}
